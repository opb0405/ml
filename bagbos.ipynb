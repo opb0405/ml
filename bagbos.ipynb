{
  "cells": [
    {
      "cell_type": "markdown",
      "metadata": {
        "id": "view-in-github",
        "colab_type": "text"
      },
      "source": [
        "<a href=\"https://colab.research.google.com/github/opb0405/ml/blob/main/bagbos.ipynb\" target=\"_parent\"><img src=\"https://colab.research.google.com/assets/colab-badge.svg\" alt=\"Open In Colab\"/></a>"
      ]
    },
    {
      "cell_type": "code",
      "execution_count": null,
      "id": "d2762765",
      "metadata": {
        "id": "d2762765"
      },
      "outputs": [],
      "source": [
        "%matplotlib inline"
      ]
    },
    {
      "cell_type": "code",
      "execution_count": null,
      "id": "4b73001f",
      "metadata": {
        "id": "4b73001f"
      },
      "outputs": [],
      "source": [
        "import numpy as np\n",
        "import matplotlib.pyplot as plt\n",
        "from sklearn.tree import DecisionTreeClassifier\n",
        "from sklearn.model_selection import train_test_split # For evaluation\n",
        "from sklearn.metrics import accuracy_score\n",
        "np.random.seed(0)"
      ]
    },
    {
      "cell_type": "code",
      "execution_count": null,
      "id": "f6520c27",
      "metadata": {
        "id": "f6520c27"
      },
      "outputs": [],
      "source": [
        "from sklearn import datasets\n",
        "X,y = datasets.load_iris(return_X_y=True)"
      ]
    },
    {
      "cell_type": "code",
      "execution_count": null,
      "id": "d3ac0b4b",
      "metadata": {
        "id": "d3ac0b4b",
        "outputId": "5a495e0a-bd40-4a94-f7e8-e135371f959c"
      },
      "outputs": [
        {
          "data": {
            "text/plain": [
              "(150, 4)"
            ]
          },
          "execution_count": 18,
          "metadata": {},
          "output_type": "execute_result"
        }
      ],
      "source": [
        "X.shape"
      ]
    },
    {
      "cell_type": "code",
      "execution_count": null,
      "id": "3259b7cb",
      "metadata": {
        "id": "3259b7cb",
        "outputId": "dbadc0d5-76a6-47cb-db71-d54106bbb74d"
      },
      "outputs": [
        {
          "name": "stdout",
          "output_type": "stream",
          "text": [
            "Number of training examples :  150\n",
            "Number of predictors :  1\n"
          ]
        }
      ],
      "source": [
        "print('Number of training examples : ',X.shape[0])\n",
        "print('Number of predictors : ',y.shape[1] if len(y.shape)>1 else 1)"
      ]
    },
    {
      "cell_type": "code",
      "execution_count": null,
      "id": "d3930c77",
      "metadata": {
        "id": "d3930c77",
        "outputId": "a8190612-a0bb-4722-d2b4-28dc746ca123"
      },
      "outputs": [
        {
          "name": "stdout",
          "output_type": "stream",
          "text": [
            "\n",
            "Accuracy Score: 0.9667\n"
          ]
        }
      ],
      "source": [
        "X_train ,X_test , y_train,y_test = train_test_split(X,y,test_size=0.2)\n",
        "dt = DecisionTreeClassifier(max_depth=3,criterion='entropy')\n",
        "dt.fit(X_train,y_train)\n",
        "y_pred = dt.predict(X_test)\n",
        "print('\\nAccuracy Score: {:2.4f}'.format(accuracy_score(y_test,y_pred)))"
      ]
    },
    {
      "cell_type": "code",
      "execution_count": null,
      "id": "6cd000b2",
      "metadata": {
        "id": "6cd000b2",
        "outputId": "41aa078a-9c37-4df2-f4ee-f449918f62e4"
      },
      "outputs": [
        {
          "name": "stdout",
          "output_type": "stream",
          "text": [
            "\n",
            "Accuracy Score: 1.0000\n"
          ]
        }
      ],
      "source": [
        "from sklearn.ensemble import BaggingClassifier\n",
        "X_train ,X_test , y_train,y_test = train_test_split(X,y,test_size=0.2)\n",
        "bc = BaggingClassifier(base_estimator=DecisionTreeClassifier(), n_estimators=1)\n",
        "bc.fit(X_train,y_train)\n",
        "y_pred = bc.predict(X_test)\n",
        "print('\\nAccuracy Score: {:2.4f}'.format(accuracy_score(y_test,y_pred)))"
      ]
    }
  ],
  "metadata": {
    "kernelspec": {
      "display_name": "Python 3 (ipykernel)",
      "language": "python",
      "name": "python3"
    },
    "language_info": {
      "codemirror_mode": {
        "name": "ipython",
        "version": 3
      },
      "file_extension": ".py",
      "mimetype": "text/x-python",
      "name": "python",
      "nbconvert_exporter": "python",
      "pygments_lexer": "ipython3",
      "version": "3.9.13"
    },
    "colab": {
      "provenance": [],
      "include_colab_link": true
    }
  },
  "nbformat": 4,
  "nbformat_minor": 5
}